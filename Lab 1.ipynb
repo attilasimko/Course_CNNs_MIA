{
 "cells": [
  {
   "cell_type": "markdown",
   "metadata": {},
   "source": [
    "# Lab 1\n",
    "Welcome. The first lab is based on a dataset available from Lister Hill National Center for Biomedical Communications (NIH) from the link: https://lhncbc.nlm.nih.gov/publication/pub9932 . The data was preprocessed and organized for easier machine learning applications. It contains various sized images of cells that do or do not contain malaria."
   ]
  },
  {
   "cell_type": "code",
   "execution_count": null,
   "metadata": {},
   "outputs": [],
   "source": []
  }
 ],
 "metadata": {
  "kernelspec": {
   "display_name": "Python 3",
   "language": "python",
   "name": "python3"
  },
  "language_info": {
   "codemirror_mode": {
    "name": "ipython",
    "version": 3
   },
   "file_extension": ".py",
   "mimetype": "text/x-python",
   "name": "python",
   "nbconvert_exporter": "python",
   "pygments_lexer": "ipython3",
   "version": "3.7.0"
  }
 },
 "nbformat": 4,
 "nbformat_minor": 2
}
