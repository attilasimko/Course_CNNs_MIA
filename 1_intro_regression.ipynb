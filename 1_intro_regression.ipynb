{
  "nbformat": 4,
  "nbformat_minor": 0,
  "metadata": {
    "colab": {
      "name": "1_intro_regression.ipynb",
      "provenance": []
    },
    "kernelspec": {
      "name": "python3",
      "display_name": "Python 3"
    }
  },
  "cells": [
    {
      "cell_type": "markdown",
      "metadata": {
        "id": "InFu2x43UcJy",
        "colab_type": "text"
      },
      "source": [
        "# Regression example\n",
        "Boston house-prices dataset.\n",
        "\n",
        "More information about the dataset: https://scikit-learn.org/stable/datasets/index.html#boston-dataset"
      ]
    },
    {
      "cell_type": "code",
      "metadata": {
        "id": "n_c_4nIdUcmc",
        "colab_type": "code",
        "colab": {
          "base_uri": "https://localhost:8080/",
          "height": 164
        },
        "outputId": "9dd0b382-56ed-45ec-94cc-5509f1780fdf"
      },
      "source": [
        "# Import packages\n",
        "import numpy as np\n",
        "import sklearn.datasets\n",
        "import sklearn.linear_model\n",
        "import sklearn.preprocessing\n",
        "\n",
        "# Reproducible results\n",
        "np.random.seed(42)\n",
        "\n",
        "# Load dataset\n",
        "data = sklearn.datasets.load_boston()\n",
        "\n",
        "n_train = int(data.data.shape[0] * 0.75 + 0.5)\n",
        "n_val = int(data.data.shape[0] * 0.2 + 0.5)\n",
        "n_test = int(data.data.shape[0] * 0.05 + 0.5)\n",
        "\n",
        "X = data.data[:n_train, :]\n",
        "y = data.target[:n_train]\n",
        "X_val = data.data[n_train:n_train + n_val, :]\n",
        "y_val = data.target[n_train:n_train + n_val]\n",
        "# Note! Do not touch the test data until the very end!\n",
        "X_test = data.data[n_train + n_val:, :]\n",
        "y_test = data.target[n_train + n_val:]\n",
        "\n",
        "print(f\"Training set size X  : {X.shape}\")\n",
        "print(f\"Training set size y  : {y.shape}\")\n",
        "print(f\"Validation set size X: {X_val.shape}\")\n",
        "print(f\"Validation set size y: {y_val.shape}\")\n",
        "print(f\"Test set size X      : {X_test.shape}\")\n",
        "print(f\"Test set size y      : {y_test.shape}\")\n",
        "print(f\"Feature names        : {data.feature_names}\")"
      ],
      "execution_count": 97,
      "outputs": [
        {
          "output_type": "stream",
          "text": [
            "Training set size X  : (380, 13)\n",
            "Training set size y  : (380,)\n",
            "Validation set size X: (101, 13)\n",
            "Validation set size y: (101,)\n",
            "Test set size X      : (25, 13)\n",
            "Test set size y      : (25,)\n",
            "Feature names        : ['CRIM' 'ZN' 'INDUS' 'CHAS' 'NOX' 'RM' 'AGE' 'DIS' 'RAD' 'TAX' 'PTRATIO'\n",
            " 'B' 'LSTAT']\n"
          ],
          "name": "stdout"
        }
      ]
    },
    {
      "cell_type": "code",
      "metadata": {
        "id": "OLW1uqJ_bVPP",
        "colab_type": "code",
        "colab": {}
      },
      "source": [
        "# Task1: Preprocess the data\n",
        "#  - Try without preprocessing, try with different kinds.\n",
        "#  - Evaluate on the validation data\n",
        "standard_scaler = sklearn.preprocessing.StandardScaler()\n",
        "standard_scaler.fit(X)\n",
        "X_ = standard_scaler.transform(X)\n",
        "X_val_ = standard_scaler.transform(X_val)\n",
        "X_test_ = standard_scaler.transform(X_test)"
      ],
      "execution_count": 0,
      "outputs": []
    },
    {
      "cell_type": "code",
      "metadata": {
        "id": "6XwP3qupaOdm",
        "colab_type": "code",
        "colab": {}
      },
      "source": [
        "# Fit baseline model\n",
        "model_baseline = sklearn.linear_model.LinearRegression(fit_intercept=True)\n",
        "_ = model_baseline.fit(X_, y)"
      ],
      "execution_count": 0,
      "outputs": []
    },
    {
      "cell_type": "code",
      "metadata": {
        "id": "l4BGPv9pbMk_",
        "colab_type": "code",
        "colab": {
          "base_uri": "https://localhost:8080/",
          "height": 54
        },
        "outputId": "512b0eff-fc33-40fd-b612-3b6aa40cc9c6"
      },
      "source": [
        "# Evaluate baseline model\n",
        "yhat = model_baseline.predict(X_)\n",
        "yhat_val = model_baseline.predict(X_val_)\n",
        "mse = sklearn.metrics.mean_squared_error(y, yhat)\n",
        "mse_val = sklearn.metrics.mean_squared_error(y_val, yhat_val)\n",
        "print(f\"Training data error  : {mse}\")\n",
        "print(f\"Validation data error: {mse_val}\")"
      ],
      "execution_count": 111,
      "outputs": [
        {
          "output_type": "stream",
          "text": [
            "Training data error  : 21.198414282847672\n",
            "Validation data error: 70.14026982089234\n"
          ],
          "name": "stdout"
        }
      ]
    },
    {
      "cell_type": "code",
      "metadata": {
        "id": "TLjuPfj1dmIN",
        "colab_type": "code",
        "colab": {}
      },
      "source": [
        "# Task 2: Find a better model\n",
        "#  - Try different regression methods\n",
        "#  - Evaluate them on the validation data\n",
        "#  - Beat the baseline model and select the best one you can find\n",
        "\n",
        "model = \"... add your code here!\"\n",
        "\n",
        "_ = model.fit(X_, y)"
      ],
      "execution_count": 0,
      "outputs": []
    },
    {
      "cell_type": "code",
      "metadata": {
        "id": "BJchAM-EeJFF",
        "colab_type": "code",
        "colab": {
          "base_uri": "https://localhost:8080/",
          "height": 54
        },
        "outputId": "16853ad5-2b13-4f5f-f29f-ba6c59014468"
      },
      "source": [
        "# Evaluate better model\n",
        "yhat = model.predict(X_)\n",
        "yhat_val = model.predict(X_val_)\n",
        "mse = sklearn.metrics.mean_squared_error(y, yhat)\n",
        "mse_val = sklearn.metrics.mean_squared_error(y_val, yhat_val)\n",
        "print(f\"Training data error  : {mse}\")\n",
        "print(f\"Validation data error: {mse_val}\")"
      ],
      "execution_count": 113,
      "outputs": [
        {
          "output_type": "stream",
          "text": [
            "Training data error  : 9.574639243945395\n",
            "Validation data error: 36.25837009608003\n"
          ],
          "name": "stdout"
        }
      ]
    },
    {
      "cell_type": "code",
      "metadata": {
        "id": "FiVg6buueWXE",
        "colab_type": "code",
        "colab": {}
      },
      "source": [
        "# Task 3: Determine the importance of the input variables\n",
        "# ... your code here"
      ],
      "execution_count": 0,
      "outputs": []
    },
    {
      "cell_type": "code",
      "metadata": {
        "id": "f7yxv79Mezh8",
        "colab_type": "code",
        "colab": {
          "base_uri": "https://localhost:8080/",
          "height": 72
        },
        "outputId": "827e213a-3036-4985-b9bc-954ee19017bd"
      },
      "source": [
        "# Evaluate the final model on the test data.\n",
        "# This is only ever done once, and as the last thing we do.\n",
        "# Training another model after this, based on the performance on the test data\n",
        "# leads to biased results.\n",
        "yhat = model.predict(X_)\n",
        "yhat_val = model.predict(X_val_)\n",
        "yhat_test = model.predict(X_test_)\n",
        "mse = sklearn.metrics.mean_squared_error(y, yhat)\n",
        "mse_val = sklearn.metrics.mean_squared_error(y_val, yhat_val)\n",
        "mse_test = sklearn.metrics.mean_squared_error(y_test, yhat_test)\n",
        "print(f\"Training data error  : {mse}\")\n",
        "print(f\"Validation data error: {mse_val}\")\n",
        "print(f\"Test data error      : {mse_test}\")"
      ],
      "execution_count": 115,
      "outputs": [
        {
          "output_type": "stream",
          "text": [
            "Training data error  : 9.574639243945395\n",
            "Validation data error: 36.25837009608003\n",
            "Test data error      : 24.12472489333958\n"
          ],
          "name": "stdout"
        }
      ]
    },
    {
      "cell_type": "code",
      "metadata": {
        "id": "bKML5sYegvM9",
        "colab_type": "code",
        "colab": {}
      },
      "source": [
        ""
      ],
      "execution_count": 0,
      "outputs": []
    }
  ]
}