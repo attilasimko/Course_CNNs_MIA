{
  "nbformat": 4,
  "nbformat_minor": 0,
  "metadata": {
    "colab": {
      "name": "4_deep_cnn_keras.ipynb",
      "provenance": [],
      "collapsed_sections": []
    },
    "kernelspec": {
      "name": "python3",
      "display_name": "Python 3"
    }
  },
  "cells": [
    {
      "cell_type": "markdown",
      "metadata": {
        "id": "yGPd6uKysaAC",
        "colab_type": "text"
      },
      "source": [
        "# Multi-class classification of handwritten digits using a deep CNN model\n",
        "\n",
        "Using the MNIST dataset."
      ]
    },
    {
      "cell_type": "code",
      "metadata": {
        "id": "zV4yMnunsaS3",
        "colab_type": "code",
        "colab": {
          "base_uri": "https://localhost:8080/",
          "height": 164
        },
        "outputId": "4fd375e6-a663-46b7-8aa3-44b03d8947a9"
      },
      "source": [
        "# Import packages\n",
        "import numpy as np\n",
        "import random\n",
        "\n",
        "# Reproducible results\n",
        "np.random.seed(42)\n",
        "random.seed(42)\n",
        "\n",
        "import sklearn.svm\n",
        "\n",
        "import keras\n",
        "import keras.datasets\n",
        "\n",
        "from keras.models import Sequential\n",
        "from keras.layers import Dense, Dropout, Flatten\n",
        "from keras.layers import Conv2D, MaxPooling2D\n",
        "from keras import backend as K\n",
        "\n",
        "K.set_image_data_format(\"channels_last\")\n",
        "\n",
        "(X, y), (X_val, y_val) = keras.datasets.mnist.load_data()\n",
        "\n",
        "X_test = X_val[-2000:, :]\n",
        "y_test = y_val[-2000:]\n",
        "X_val = X_val[:-2000, :]\n",
        "y_val = y_val[:-2000]\n",
        "\n",
        "# Add channel dimensions last\n",
        "X = X[..., np.newaxis]\n",
        "X_val = X_val[..., np.newaxis]\n",
        "X_test = X_test[..., np.newaxis]\n",
        "\n",
        "X = X.astype(np.float32)\n",
        "X_val = X_val.astype(np.float32)\n",
        "X_test = X_test.astype(np.float32)\n",
        "X /= 255.0\n",
        "X_val /= 255.0\n",
        "X_test /= 255.0\n",
        "\n",
        "num_classes = len(set(y))\n",
        "\n",
        "y_orig = y.copy()\n",
        "y_val_orig = y_val.copy()\n",
        "y = keras.utils.to_categorical(y, num_classes)\n",
        "y_val = keras.utils.to_categorical(y_val, num_classes)\n",
        "y_test = keras.utils.to_categorical(y_test, num_classes)\n",
        "\n",
        "input_shape = (*X.shape[1:3], 1)\n",
        "\n",
        "print(f\"Training set size X  : {X.shape}\")\n",
        "print(f\"Training set size y  : {y.shape}\")\n",
        "print(f\"Validation set size X: {X_val.shape}\")\n",
        "print(f\"Validation set size y: {y_val.shape}\")\n",
        "print(f\"Test set size X      : {X_test.shape}\")\n",
        "print(f\"Test set size y      : {y_test.shape}\")\n",
        "print(f\"Input shape          : {input_shape}\")\n",
        "print(f\"Number of classes    : {num_classes}\")"
      ],
      "execution_count": 33,
      "outputs": [
        {
          "output_type": "stream",
          "text": [
            "Training set size X  : (60000, 28, 28, 1)\n",
            "Training set size y  : (60000, 10)\n",
            "Validation set size X: (8000, 28, 28, 1)\n",
            "Validation set size y: (8000, 10)\n",
            "Test set size X      : (2000, 28, 28, 1)\n",
            "Test set size y      : (2000, 10)\n",
            "Input shape          : (28, 28, 1)\n",
            "Number of classes    : 10\n"
          ],
          "name": "stdout"
        }
      ]
    },
    {
      "cell_type": "code",
      "metadata": {
        "id": "1w06KHXXsyXO",
        "colab_type": "code",
        "colab": {
          "base_uri": "https://localhost:8080/",
          "height": 54
        },
        "outputId": "0f84dca2-2ff4-46eb-af4f-01b2c4bab515"
      },
      "source": [
        "# Create baseline model\n",
        "\n",
        "# Reshape for the SVC model\n",
        "X_ = X.reshape(X.shape[0], -1)\n",
        "X_val_ = X_val.reshape(X_val.shape[0], -1)\n",
        "X_test_ = X_test.reshape(X_test.shape[0], -1)\n",
        "\n",
        "# Fit baseline model\n",
        "model_baseline = sklearn.svm.SVC(C=1.0,\n",
        "                                 kernel=\"rbf\",\n",
        "                                 gamma=\"auto\",\n",
        "                                 shrinking=True,\n",
        "                                 tol=0.001,\n",
        "                                 cache_size=200,\n",
        "                                 class_weight=None,\n",
        "                                 verbose=True,\n",
        "                                 max_iter=5,  # Note, only five iterations here!\n",
        "                                 decision_function_shape=\"ovr\")\n",
        "_ = model_baseline.fit(X_, y_orig)"
      ],
      "execution_count": 34,
      "outputs": [
        {
          "output_type": "stream",
          "text": [
            "[LibSVM]"
          ],
          "name": "stdout"
        },
        {
          "output_type": "stream",
          "text": [
            "/usr/local/lib/python3.6/dist-packages/sklearn/svm/base.py:241: ConvergenceWarning: Solver terminated early (max_iter=5).  Consider pre-processing your data with StandardScaler or MinMaxScaler.\n",
            "  % self.max_iter, ConvergenceWarning)\n"
          ],
          "name": "stderr"
        }
      ]
    },
    {
      "cell_type": "code",
      "metadata": {
        "id": "vEuWSoSYx0B7",
        "colab_type": "code",
        "colab": {
          "base_uri": "https://localhost:8080/",
          "height": 54
        },
        "outputId": "4fb680fc-48eb-435e-f64d-9fdb3ef1762c"
      },
      "source": [
        "# Evaluate baseline model\n",
        "yhat = model_baseline.predict(X_)\n",
        "yhat_val = model_baseline.predict(X_val_)\n",
        "mse = sklearn.metrics.accuracy_score(y_orig, yhat)\n",
        "mse_val = sklearn.metrics.accuracy_score(y_val_orig, yhat_val)\n",
        "print(f\"Training data error  : {mse}\")\n",
        "print(f\"Validation data error: {mse_val}\")"
      ],
      "execution_count": 36,
      "outputs": [
        {
          "output_type": "stream",
          "text": [
            "Training data error  : 0.4898166666666667\n",
            "Validation data error: 0.47075\n"
          ],
          "name": "stdout"
        }
      ]
    },
    {
      "cell_type": "code",
      "metadata": {
        "id": "28AK6dsuvP-J",
        "colab_type": "code",
        "colab": {}
      },
      "source": [
        "# Create deep CNN model\n",
        "\n",
        "def create_model():\n",
        "\n",
        "    model = \"... add your code here!\"\n",
        "\n",
        "    return model\n",
        "\n",
        "model = create_model()\n",
        "\n",
        "model.compile(loss=\"categorical_crossentropy\",\n",
        "              optimizer=\"adam\",\n",
        "              metrics=[\"accuracy\"])"
      ],
      "execution_count": 0,
      "outputs": []
    },
    {
      "cell_type": "code",
      "metadata": {
        "id": "KGGpoJ8TvWPC",
        "colab_type": "code",
        "colab": {
          "base_uri": "https://localhost:8080/",
          "height": 109
        },
        "outputId": "7bc284bf-1417-4a44-9d2c-882e859cac65"
      },
      "source": [
        "# Train model\n",
        "model.fit(X, y,\n",
        "          batch_size=64,\n",
        "          epochs=1,  # Note, only one epoch here!\n",
        "          verbose=1,\n",
        "          validation_data=(X_val, y_val))\n",
        "score = model.evaluate(X_val, y_val, verbose=0)\n",
        "print(\"Validation loss    :\", score[0])\n",
        "print(\"Validation accuracy:\", score[1])"
      ],
      "execution_count": 39,
      "outputs": [
        {
          "output_type": "stream",
          "text": [
            "Train on 60000 samples, validate on 8000 samples\n",
            "Epoch 1/1\n",
            "60000/60000 [==============================] - 161s 3ms/step - loss: 0.2121 - acc: 0.9350 - val_loss: 0.0568 - val_acc: 0.9822\n",
            "Validation loss    : 0.05683108211332001\n",
            "Validation accuracy: 0.98225\n"
          ],
          "name": "stdout"
        }
      ]
    },
    {
      "cell_type": "code",
      "metadata": {
        "id": "GFullmzNwBHS",
        "colab_type": "code",
        "colab": {
          "base_uri": "https://localhost:8080/",
          "height": 72
        },
        "outputId": "96732416-4109-4964-812d-5c0299564557"
      },
      "source": [
        "# Evaluate the final model on the test data.\n",
        "# This is only ever done once, and as the last thing we do.\n",
        "# Training another model after this, based on the performance on the test data\n",
        "# leads to biased results.\n",
        "acc = model.evaluate(X, y, verbose=0)\n",
        "acc_val = model.evaluate(X_val, y_val, verbose=0)\n",
        "acc_test = model.evaluate(X_test, y_test, verbose=0)\n",
        "print(f\"Training data error  : {acc[1]:.3f}\")\n",
        "print(f\"Validation data error: {acc_val[1]:.3f}\")\n",
        "print(f\"Test data error      : {acc_test[1]:.3f}\")"
      ],
      "execution_count": 30,
      "outputs": [
        {
          "output_type": "stream",
          "text": [
            "Training data error  : 0.985\n",
            "Validation data error: 0.982\n",
            "Test data error      : 0.991\n"
          ],
          "name": "stdout"
        }
      ]
    },
    {
      "cell_type": "code",
      "metadata": {
        "id": "QA0c7MYd0W4G",
        "colab_type": "code",
        "colab": {}
      },
      "source": [
        ""
      ],
      "execution_count": 0,
      "outputs": []
    }
  ]
}