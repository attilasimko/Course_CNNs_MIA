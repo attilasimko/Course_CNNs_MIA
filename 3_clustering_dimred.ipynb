{
  "nbformat": 4,
  "nbformat_minor": 0,
  "metadata": {
    "colab": {
      "name": "3_clustering_dimred.ipynb",
      "provenance": [],
      "collapsed_sections": []
    },
    "kernelspec": {
      "name": "python3",
      "display_name": "Python 3"
    }
  },
  "cells": [
    {
      "cell_type": "markdown",
      "metadata": {
        "id": "bVjJ_TfTl_Y5",
        "colab_type": "text"
      },
      "source": [
        "# Clustering and dimensionality reduction\n",
        "\n",
        "The famous Iris dataset by Sir R. A. Fisher.\n",
        "\n",
        "More information here: https://scikit-learn.org/stable/datasets/index.html#iris-dataset\n",
        "\n",
        "We will use clustering to classify the samples, and dimensionality reduction for visualisation."
      ]
    },
    {
      "cell_type": "code",
      "metadata": {
        "id": "A-ItAQvwl_pe",
        "colab_type": "code",
        "colab": {
          "base_uri": "https://localhost:8080/",
          "height": 164
        },
        "outputId": "7b292028-d8bf-40bf-b280-1217db677893"
      },
      "source": [
        "# Import packages\n",
        "import numpy as np\n",
        "import sklearn.datasets\n",
        "import sklearn.cluster\n",
        "import matplotlib.pyplot as plt\n",
        "\n",
        "# Reproducible results\n",
        "np.random.seed(42)\n",
        "\n",
        "data = sklearn.datasets.load_iris()\n",
        "\n",
        "n_train = int(data.data.shape[0] * 0.75 + 0.5)\n",
        "n_val = int(data.data.shape[0] * 0.15 + 0.5)\n",
        "n_test = int(data.data.shape[0] * 0.10 + 0.5) - 1\n",
        "\n",
        "# We won't use the targets here, even though we have them\n",
        "X = data.data[:n_train, :]\n",
        "y = data.target[:n_train]\n",
        "X_val = data.data[n_train:n_train + n_val, :]\n",
        "y_val = data.target[n_train:n_train + n_val]\n",
        "# Note! Do not touch the test data until the very end!\n",
        "X_test = data.data[n_train + n_val:, :]\n",
        "y_test = data.target[n_train + n_val:]\n",
        "\n",
        "print(f\"Training set size X  : {X.shape}\")\n",
        "print(f\"Training set size y  : {y.shape}\")\n",
        "print(f\"Validation set size X: {X_val.shape}\")\n",
        "print(f\"Validation set size y: {y_val.shape}\")\n",
        "print(f\"Test set size X      : {X_test.shape}\")\n",
        "print(f\"Test set size y      : {y_test.shape}\")\n",
        "print(f\"Output classes       : {set(y)}\")\n",
        "print(f\"Feature names        : {data.feature_names}\")"
      ],
      "execution_count": 63,
      "outputs": [
        {
          "output_type": "stream",
          "text": [
            "Training set size X  : (113, 4)\n",
            "Training set size y  : (113,)\n",
            "Validation set size X: (23, 4)\n",
            "Validation set size y: (23,)\n",
            "Test set size X      : (14, 4)\n",
            "Test set size y      : (14,)\n",
            "Output classes       : {0, 1, 2}\n",
            "Feature names        : ['sepal length (cm)', 'sepal width (cm)', 'petal length (cm)', 'petal width (cm)']\n"
          ],
          "name": "stdout"
        }
      ]
    },
    {
      "cell_type": "code",
      "metadata": {
        "id": "Vf-DwpMLphGC",
        "colab_type": "code",
        "colab": {}
      },
      "source": [
        "# Task1: Preprocess the data\n",
        "#  - Try without preprovessing, try with different kinds.\n",
        "#  - Evaluate on the validation data\n",
        "standard_scaler = sklearn.preprocessing.StandardScaler()\n",
        "standard_scaler.fit(X)\n",
        "X_ = standard_scaler.transform(X)\n",
        "X_val_ = standard_scaler.transform(X_val)\n",
        "X_test_ = standard_scaler.transform(X_test)"
      ],
      "execution_count": 0,
      "outputs": []
    },
    {
      "cell_type": "code",
      "metadata": {
        "id": "pYQRinnWmS6v",
        "colab_type": "code",
        "colab": {
          "base_uri": "https://localhost:8080/",
          "height": 332
        },
        "outputId": "6e7d1605-1267-419e-8f7e-4b054399b3cd"
      },
      "source": [
        "# Task 2: Reduce the dimension to two, and plot the data\n",
        "\n",
        "dimred = \"... add your code here!\"\n",
        "\n",
        "dimred.fit(X_)\n",
        "T = dimred.transform(X_)\n",
        "\n",
        "print(f\"Input data shape      : {X_.shape}\")\n",
        "print(f\"Transformed data shape: {T.shape}\")\n",
        "\n",
        "plt.figure()\n",
        "for i in range(T.shape[0]):\n",
        "    if y[i] == 0:\n",
        "        h0, = plt.plot(T[i, 0], T[i, 1], '.', color=\"red\")\n",
        "    elif y[i] == 1:\n",
        "        h1, = plt.plot(T[i, 0], T[i, 1], '.', color=\"green\")\n",
        "    else:  # y[i] == 2:\n",
        "        h2, = plt.plot(T[i, 0], T[i, 1], '.', color=\"blue\")\n",
        "plt.xlabel(\"Reduced dim 1\")\n",
        "plt.xlabel(\"Reduced dim 2\")\n",
        "plt.title(\"Dimensionality reduced input data\")\n",
        "h0.set_label(\"Iris-Setosa\")\n",
        "h1.set_label(\"Iris-Versicolour\")\n",
        "h2.set_label(\"Iris-Virginica\")\n",
        "_ = plt.legend()"
      ],
      "execution_count": 65,
      "outputs": [
        {
          "output_type": "stream",
          "text": [
            "Input data shape      : (113, 4)\n",
            "Transformed data shape: (113, 2)\n"
          ],
          "name": "stdout"
        },
        {
          "output_type": "display_data",
          "data": {
            "image/png": "[encoded data removed]",
            "text/plain": [
              "<Figure size 432x288 with 1 Axes>"
            ]
          },
          "metadata": {
            "tags": []
          }
        }
      ]
    },
    {
      "cell_type": "code",
      "metadata": {
        "id": "9SKUET7Vm00R",
        "colab_type": "code",
        "colab": {}
      },
      "source": [
        "# Fit baseline model\n",
        "model_baseline = sklearn.cluster.KMeans(\n",
        "    n_clusters=3,\n",
        "    init=\"k-means++\",\n",
        "    n_init=10,\n",
        "    max_iter=300,\n",
        "    tol=0.0001)\n",
        "_ = model_baseline.fit(X_)"
      ],
      "execution_count": 0,
      "outputs": []
    },
    {
      "cell_type": "code",
      "metadata": {
        "id": "IK-DANbVqPZF",
        "colab_type": "code",
        "colab": {
          "base_uri": "https://localhost:8080/",
          "height": 295
        },
        "outputId": "6e86af9e-4fde-4f0b-f40c-01d0150f67ed"
      },
      "source": [
        "# Plot the cluster centers with the data labels from the clustering\n",
        "\n",
        "yhat = model_baseline.predict(X_)\n",
        "\n",
        "plt.figure()\n",
        "for i in range(T.shape[0]):\n",
        "    if yhat[i] == 0:\n",
        "        plt.plot(T[i, 0], T[i, 1], '.', color=\"red\")\n",
        "    elif yhat[i] == 1:\n",
        "        plt.plot(T[i, 0], T[i, 1], '.', color=\"green\")\n",
        "    else:  # yhat[i] == 2:\n",
        "        plt.plot(T[i, 0], T[i, 1], '.', color=\"blue\")\n",
        "\n",
        "T_mu = dimred.transform(model_baseline.cluster_centers_)\n",
        "\n",
        "for i in range(T_mu.shape[0]):\n",
        "    plt.plot(T_mu[i, 0], T_mu[i, 1], 'x', markersize=20, color=\"black\")\n",
        "\n",
        "plt.xlabel(\"Reduced dim 1\")\n",
        "plt.xlabel(\"Reduced dim 2\")\n",
        "_ = plt.title(\"Dimensionality reduced input data\")"
      ],
      "execution_count": 67,
      "outputs": [
        {
          "output_type": "display_data",
          "data": {
            "image/png": "[encoded data removed]",
            "text/plain": [
              "<Figure size 432x288 with 1 Axes>"
            ]
          },
          "metadata": {
            "tags": []
          }
        }
      ]
    },
    {
      "cell_type": "code",
      "metadata": {
        "id": "M2ZINpBnpc20",
        "colab_type": "code",
        "colab": {}
      },
      "source": [
        "# Task 3: Find a cluster model, and plot its results.\n",
        "#  - Try to find one that performs better than K-means clustering"
      ],
      "execution_count": 0,
      "outputs": []
    }
  ]
}